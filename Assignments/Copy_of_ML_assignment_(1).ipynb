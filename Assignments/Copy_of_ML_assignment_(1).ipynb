{
  "nbformat": 4,
  "nbformat_minor": 0,
  "metadata": {
    "colab": {
      "name": "Copy of ML_assignment (1).ipynb",
      "provenance": [],
      "collapsed_sections": [],
      "include_colab_link": true
    },
    "kernelspec": {
      "name": "python3",
      "display_name": "Python 3"
    },
    "language_info": {
      "name": "python"
    },
    "accelerator": "GPU"
  },
  "cells": [
    {
      "cell_type": "markdown",
      "metadata": {
        "id": "view-in-github",
        "colab_type": "text"
      },
      "source": [
        "<a href=\"https://colab.research.google.com/github/anandp11/BCS-Speech_Emotion_Recognition/blob/main/Assignments/Copy_of_ML_assignment_(1).ipynb\" target=\"_parent\"><img src=\"https://colab.research.google.com/assets/colab-badge.svg\" alt=\"Open In Colab\"/></a>"
      ]
    },
    {
      "cell_type": "markdown",
      "metadata": {
        "id": "UkJr6Lh9aIem"
      },
      "source": [
        "## Question 1 : Linear Regression\n",
        "To check whether you are able to build simple linear regression model from scratch or not."
      ]
    },
    {
      "cell_type": "code",
      "metadata": {
        "id": "wq1ZliSEuhTw"
      },
      "source": [
        "import numpy as np\n",
        "import matplotlib.pyplot as plt\n",
        " \n",
        "!wget --no-check-certificate https://github.com/adigup390/datasets/raw/main/X.npy -O X.npy\n",
        "!wget --no-check-certificate https://github.com/adigup390/datasets/raw/main/y.npy -O y.npy"
      ],
      "execution_count": null,
      "outputs": []
    },
    {
      "cell_type": "code",
      "metadata": {
        "id": "021fTYdwTkZm"
      },
      "source": [
        "def load_data_LR():\n",
        "  # Implement this function to read the dataset using the path declared in path_X and path_y\n",
        "  # should return the X and y data\n",
        "  # use np.load() to load the data google it you will get to know how to do it\n",
        "\n",
        "  path_X = \"X.npy\"\n",
        "  path_y = \"y.npy\"\n",
        "\n",
        "  # Write your code here ----------\n",
        "  X = np.load(path_X)\n",
        "  y = np.load(path_y)\n",
        "  \n",
        "  return X, y\n"
      ],
      "execution_count": 4,
      "outputs": []
    },
    {
      "cell_type": "code",
      "metadata": {
        "id": "Ngg3QUyTfBxC"
      },
      "source": [
        "def get_linear_model(X, y):\n",
        "  # This shoudl return a proper linear model without bias of type y = XW\n",
        "\n",
        "  # Write your code here ----------\n",
        "    \n",
        "\n",
        "  \n",
        "  # -------------------------------\n",
        "   D = X.shape[1]\n",
        "   out_shape = y.shape[1]\n",
        "   W = np.random.randn(D, out_shape)\n",
        "   return W\n"
      ],
      "execution_count": 5,
      "outputs": []
    },
    {
      "cell_type": "code",
      "metadata": {
        "id": "c52FIGu-hlzM"
      },
      "source": [
        "def MSE(y, y_pred):\n",
        "  # should return the mean square error between the actual y and predicted y\n",
        "\n",
        "  # Write your code here ----------\n",
        "  error = 0\n",
        "  error = ((y - y_pred) ** 2).mean()\n",
        "  # -------------------------------\n",
        "\n",
        "  return error"
      ],
      "execution_count": 6,
      "outputs": []
    },
    {
      "cell_type": "code",
      "metadata": {
        "id": "zrBrqA15hCdT"
      },
      "source": [
        "def train_by_algebra(X, y):\n",
        "  # should return the trained weight 'W' using the linear algebra method i.e. setting dE/dW = 0\n",
        "\n",
        "  # Write your code here ----------\n",
        "  W = np.linalg.inv(np.dot(X.T, X))\n",
        "  W = np.dot(W, X.T)\n",
        "  W = np.dot(W, y.reshape(-1,1))\n",
        "  # -------------------------------\n",
        "\n",
        "  return W\n",
        "\n"
      ],
      "execution_count": 18,
      "outputs": []
    },
    {
      "cell_type": "code",
      "metadata": {
        "id": "kJ_r_R1PixX2"
      },
      "source": [
        "def train_by_GD(X, y, epochs=5, lr=0.01):\n",
        "  # should return the trained weight 'W' using the gradient descent for number of iterations equals to epochs\n",
        "  # should also return error history int the cariable error_hist.shape = (epochs,); error_hist[i] = mean square error after epoch i-1\n",
        "  # should also print mean square error after each epoch/ iteration\n",
        "  # lr = \"learning rate\" i.e. eta\n",
        "  \n",
        "  # Write your code here ----------\n",
        "  \n",
        "  W = get_linear_model(X, y)\n",
        "\n",
        "  \n",
        "  for i in range(epochs):\n",
        "    y_pred = np.dot(X, W)\n",
        "    gradient = np.dot(X.T, (y.reshape(-1,1)-y_pred.reshape(-1,1))).reshape(-1, 1)\n",
        "    W = W + lr*gradient\n",
        "    error_hist[i] = MSE(y, y_pred)\n",
        "  \n",
        "  return W,error_hist   \n",
        "  # -------------------------------"
      ],
      "execution_count": 16,
      "outputs": []
    },
    {
      "cell_type": "markdown",
      "metadata": {
        "id": "uLTxFIOgkdjJ"
      },
      "source": [
        "### Now write a complete code using the function defined above to learn the model for following cases:"
      ]
    },
    {
      "cell_type": "markdown",
      "metadata": {
        "id": "eYW1AukM378a"
      },
      "source": [
        "##### Learn **W** using linear algebra method and prints mean square error between actual y and predicted y. Use `y_pred = XW`. Also plot y_pred and y on different plots."
      ]
    },
    {
      "cell_type": "code",
      "metadata": {
        "id": "AIRs0jB-kOZU"
      },
      "source": [
        "# Write your code here ----------\n",
        "X,y = load_data_LR()\n",
        "W = train_by_algebra(X,y)\n",
        "y_pred = np.dot(X,W)\n",
        "print(MSE(y, y_pred))\n",
        "\n",
        "plt.plot(y_pred, label=\"y_pred\")\n",
        "plt.plot(y, label=\"y\")\n",
        "plt.legend()\n",
        "plt.show()\n",
        "# -------------------------------"
      ],
      "execution_count": null,
      "outputs": []
    },
    {
      "cell_type": "markdown",
      "metadata": {
        "id": "6kP77_sK4CpT"
      },
      "source": [
        "##### Learn **W** using gradient descent method for following learning rates, `lr = [0.01, 0.001, 0.0001]` for **10 epochs**. Plot **MSE vs epochs** for each of them.  Also plot y_pred and y on different plots."
      ]
    },
    {
      "cell_type": "code",
      "metadata": {
        "id": "1bac27RT4G2H"
      },
      "source": [
        "# Write your code here ----------\n",
        "X,y = load_data_LR()\n",
        "y_pred = np.dot(X,W)\n",
        "print(MSE(y, y_pred))\n",
        "\n",
        "\n",
        "We, error_hist = train_by_GD(X, y, epochs=10, lr=0.01)\n",
        "plt.title(\"MSE vs Epochs\")\n",
        "plt.plot((error_hist), label=\"lr = 0.01\")\n",
        "plt.legend()\n",
        "plt.show()\n",
        "y_pred = np.dot(X,W)\n",
        "plt.title(\"lr = 0.01\")\n",
        "plt.plot(y_pred, label=\"y_pred\")\n",
        "plt.plot(y,label=\"y\")\n",
        "plt.legend()\n",
        "plt.show()\n",
        "\n",
        "\n",
        "W, error_hist = train_by_GD(X, y, epochs=10, lr=0.001)\n",
        "plt.title(\"MSE vs Epochs\")\n",
        "plt.plot((error_hist), label=\"lr = 0.001\")\n",
        "plt.legend()\n",
        "plt.show()\n",
        "y_pred = np.dot(X,W)\n",
        "plt.title(\"lr = 0.001\")\n",
        "plt.plot(y_pred, label=\"y_pred\")\n",
        "plt.plot(y,label=\"y\")\n",
        "plt.legend()\n",
        "plt.show()\n",
        "\n",
        "\n",
        "W, error_hist = train_by_GD(X, y, epochs=10, lr=0.0001)\n",
        "plt.title(\"MSE vs Epochs\")\n",
        "plt.plot((error_hist), label=\"lr = 0.0001\")\n",
        "plt.legend()\n",
        "plt.show()\n",
        "y_pred = np.dot(X,W)\n",
        "plt.title(\"lr = 0.0001\")\n",
        "plt.plot(y_pred, label=\"y_pred\")\n",
        "plt.plot(y,label=\"y\")\n",
        "plt.legend()\n",
        "plt.show()\n",
        "\n",
        "# -------------------------------"
      ],
      "execution_count": null,
      "outputs": []
    },
    {
      "cell_type": "code",
      "metadata": {
        "id": "mna7Uh0vJuNe"
      },
      "source": [
        ""
      ],
      "execution_count": null,
      "outputs": []
    },
    {
      "cell_type": "markdown",
      "metadata": {
        "id": "4zJO-LIvn6sD"
      },
      "source": [
        "## Question 2: Image Classification in Tensorflow using Deep Learning\n",
        "To check whether you are able to build a given neural network model in tensorflow or not. First we will build a fully connected NN model second we will build a CNN model."
      ]
    },
    {
      "cell_type": "code",
      "metadata": {
        "id": "7mynGfqRn24b"
      },
      "source": [
        "import numpy as np\n",
        "import tensorflow as tf\n",
        "import matplotlib.pyplot as plt\n",
        "from tensorflow import keras"
      ],
      "execution_count": 29,
      "outputs": []
    },
    {
      "cell_type": "code",
      "metadata": {
        "id": "s8WKt-qY4agV"
      },
      "source": [
        "def plot_history(history):\n",
        "  # function to plot accuracy vs epoch\n",
        "\n",
        "  plt.plot(history.history['accuracy'], label='accuracy')\n",
        "  plt.plot(history.history['val_accuracy'], label = 'val_accuracy')\n",
        "  plt.xlabel('Epoch')\n",
        "  plt.ylabel('Accuracy')\n",
        "  plt.legend(loc='lower right')"
      ],
      "execution_count": 30,
      "outputs": []
    },
    {
      "cell_type": "code",
      "metadata": {
        "id": "tCT9Kmhhn5I_"
      },
      "source": [
        "def load_data_cifar10_norm():\n",
        "  # should return the normalised cifar10 dataset by loading it from tensorflow\n",
        "  # link: https://www.tensorflow.org/api_docs/python/tf/keras/datasets/cifar10/\n",
        "\n",
        "  # Write your code here ----------\n",
        "  (x_train, y_train), (x_test, y_test) = keras.datasets.cifar10.load_data()\n",
        "  #x_train = x_train/255.0\n",
        "  #x_test = x_test/255.0\n",
        "  # -------------------------------\n",
        "\n",
        "  return x_train, y_train, x_test, y_test"
      ],
      "execution_count": 31,
      "outputs": []
    },
    {
      "cell_type": "markdown",
      "metadata": {
        "id": "LDpHSTRPvS9t"
      },
      "source": [
        "### Define a fully connected neural network model with following attributes:\n",
        "\n",
        "*   Total number of **hidden layers = 4**, all with **relu** activation\n",
        "*   Number of neurons in **first hidden layer = 7200**\n",
        "*   Number of neurons in **second hidden layer = 2304**\n",
        "*   Number of neurons in **third hidden layer = 1024**\n",
        "*   Number of neurons in **fourth hidden layer = 64**\n"
      ]
    },
    {
      "cell_type": "code",
      "metadata": {
        "id": "VYYQzIWnqU3t"
      },
      "source": [
        "def build_fc_model(input_shape=(32, 32, 3), num_class=10):\n",
        "  # should return a sequential model defined based on the above attributes\n",
        "  # do not compile the model\n",
        "\n",
        "  # Write your code here ----------\n",
        "  #x_train = x_train.reshape(-1, 32, 32, 3)\n",
        "  \n",
        "\n",
        "  model = tf.keras.models.Sequential([\n",
        "                                    tf.keras.layers.Flatten(),\n",
        "                                    tf.keras.layers.Dense(7200, activation='relu', input_shape = input_shape),\n",
        "                                    tf.keras.layers.Dense(2304, activation=\"relu\"),\n",
        "                                    tf.keras.layers.Dense(1024, activation=\"relu\"), \n",
        "                                    tf.keras.layers.Dense(64, activation=\"relu\"),\n",
        "                                    tf.keras.layers.Dense(num_class, activation=\"softmax\")])\n",
        "  # -------------------------------\n",
        "\n",
        "  return model"
      ],
      "execution_count": 44,
      "outputs": []
    },
    {
      "cell_type": "markdown",
      "metadata": {
        "id": "pdcQ2yqz1RYH"
      },
      "source": [
        "### Define a CNN model with following attribute:\n",
        "\n",
        "*   Total number of **hidden layer = 4**\n",
        "*   After every convolutional layer there must be a MaxPoolingLayer of size (2, 2)\n",
        "*   Total number of convolutional layer = 3, all with **relu** activation.\n",
        "    *    Number of filters in **first convolutional layer = 32**\n",
        "    *    Number of filters in **second convolutional layer = 64**\n",
        "    *    Number of filters in **third convolutional layer = 64**\n",
        "*   After all convolutional layer flatten the output and use **dense layer of 64 neurons**\n",
        "\n"
      ]
    },
    {
      "cell_type": "code",
      "metadata": {
        "id": "T00AYU3D3L1j"
      },
      "source": [
        "def build_cnn_model(input_shape=(32, 32, 3), num_class=10):\n",
        "  # should return a sequential model defined based on the above attributes\n",
        "  # do not compile the model\n",
        "\n",
        "  # Write your code here ----------\n",
        "    \n",
        "    model = tf.keras.models.Sequential([\n",
        "    \n",
        "    tf.keras.layers.Conv2D(32, (3,3), activation='relu', input_shape= input_shape),\n",
        "    tf.keras.layers.MaxPooling2D(2, 2),\n",
        "    tf.keras.layers.Conv2D(64, (3,3), activation='relu'),\n",
        "    tf.keras.layers.MaxPooling2D(2,2),\n",
        "    tf.keras.layers.Conv2D(64, (3,3), activation='relu'),\n",
        "    tf.keras.layers.MaxPooling2D(2,2),\n",
        "    tf.keras.layers.Flatten(),\n",
        "    tf.keras.layers.Dense(64, activation='relu'),\n",
        "    \n",
        "    tf.keras.layers.Dense(10, activation='softmax')\n",
        "])\n",
        "  # -------------------------------\n",
        "\n",
        "    return model"
      ],
      "execution_count": 40,
      "outputs": []
    },
    {
      "cell_type": "markdown",
      "metadata": {
        "id": "7SXXUeRp4Urq"
      },
      "source": [
        "### Compile and train the fully connected neural network model using the above functions."
      ]
    },
    {
      "cell_type": "code",
      "metadata": {
        "id": "61_XiEUR3eV0"
      },
      "source": [
        "# Write your code here ----------\n",
        "x_train, y_train, x_test, y_test = load_data_cifar10_norm()\n",
        "\n",
        "model = build_fc_model()\n",
        "model.compile(optimizer = tf.keras.optimizers.Adam(),\n",
        "              loss = 'sparse_categorical_crossentropy',\n",
        "              metrics=['accuracy'])\n",
        "# -------------------------------\n",
        "\n",
        "history = model.fit(x_train, y_train, epochs=10, batch_size=512,\n",
        "                    validation_data=(x_test, y_test))\n",
        "\n",
        "plot_history(history)\n",
        "model.summary()"
      ],
      "execution_count": null,
      "outputs": []
    },
    {
      "cell_type": "markdown",
      "metadata": {
        "id": "Z_yHXGc47ENb"
      },
      "source": [
        "### Compile and train the CNN model using the above functions."
      ]
    },
    {
      "cell_type": "code",
      "metadata": {
        "id": "aM9rueu97Gnq"
      },
      "source": [
        "# Write your code here ----------\n",
        "x_train, y_train, x_test, y_test = load_data_cifar10_norm()\n",
        "model = build_cnn_model()\n",
        "\n",
        "model.compile(optimizer = tf.keras.optimizers.Adam(),\n",
        "              loss = 'sparse_categorical_crossentropy',\n",
        "              metrics=['accuracy'])\n",
        "# -------------------------------\n",
        "\n",
        "history = model.fit(x_train, y_train, epochs=10, batch_size=512,\n",
        "                    validation_data=(x_test, y_test))\n",
        "\n",
        "plot_history(history)\n",
        "model.summary()"
      ],
      "execution_count": null,
      "outputs": []
    },
    {
      "cell_type": "markdown",
      "metadata": {
        "id": "nKwrtPcy750Q"
      },
      "source": [
        "### What do you observe? Compare both the model by looking at their Accuracy vs Epoch plot and total numbers of trainable parameters."
      ]
    },
    {
      "cell_type": "code",
      "metadata": {
        "id": "Q2lFRCoL8N_b"
      },
      "source": [
        "print(\"In the first model, it is seems like it is not training with epochs. The accuracy remains constant. The CNN model is getting better with each epoch and its accuracy is increasing. The CNN model is also seems faster because it has fewer training parameters\")"
      ],
      "execution_count": null,
      "outputs": []
    }
  ]
}